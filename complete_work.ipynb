{
 "cells": [
  {
   "cell_type": "markdown",
   "id": "d11dfc06",
   "metadata": {
    "id": "d11dfc06"
   },
   "source": [
    "# Необходимые библиотеки"
   ]
  },
  {
   "cell_type": "code",
   "execution_count": 1,
   "id": "c997c74d",
   "metadata": {
    "id": "c997c74d"
   },
   "outputs": [],
   "source": [
    "import pandas as pd\n",
    "import numpy as np"
   ]
  },
  {
   "cell_type": "code",
   "execution_count": 2,
   "id": "0d824765",
   "metadata": {
    "id": "0d824765"
   },
   "outputs": [],
   "source": [
    "from tqdm import tqdm\n",
    "\n",
    "tqdm.pandas()"
   ]
  },
  {
   "cell_type": "code",
   "execution_count": 3,
   "id": "68bd2d01",
   "metadata": {
    "id": "68bd2d01"
   },
   "outputs": [],
   "source": [
    "import os"
   ]
  },
  {
   "cell_type": "markdown",
   "id": "7f4ad739",
   "metadata": {
    "id": "7f4ad739"
   },
   "source": [
    "# Собираем stations.csv"
   ]
  },
  {
   "cell_type": "code",
   "execution_count": 4,
   "id": "85d2de89",
   "metadata": {
    "id": "85d2de89"
   },
   "outputs": [],
   "source": [
    "path_to_extract_from = os.path.join('_data', 'stations')\n",
    "\n",
    "objects = os.listdir(path_to_extract_from)"
   ]
  },
  {
   "cell_type": "code",
   "execution_count": 5,
   "id": "b6a98f09",
   "metadata": {
    "id": "b6a98f09",
    "outputId": "da8028a7-4837-43fc-ebff-dda6729ab3c8"
   },
   "outputs": [
    {
     "name": "stderr",
     "output_type": "stream",
     "text": [
      "C:\\Users\\User\\AppData\\Local\\Temp\\ipykernel_11496\\787698988.py:24: FutureWarning: The behavior of DataFrame concatenation with empty or all-NA entries is deprecated. In a future version, this will no longer exclude empty or all-NA columns when determining the result dtypes. To retain the old behavior, exclude the relevant entries before the concat operation.\n",
      "  stations = pd.concat([stations, obj])\n"
     ]
    }
   ],
   "source": [
    "'''\n",
    "в некоторых файлах были признаки, не повторяющиеся ни в одной другой таблице ('Unnamed: 7', 'landmark', 'dateCreated').\n",
    "от них просто избавился. признак города встречается только в более поздних датасетах, вероятно это связано с расширением\n",
    "территории, на которой работала компания, поэтому по умолчаню поставил город Chicago\n",
    "'''\n",
    "\n",
    "stations = pd.DataFrame(columns=['id', 'name', 'city', 'latitude', 'longitude', 'dpcapacity', 'online_date'])\n",
    "\n",
    "for obj_name in objects:\n",
    "    if obj_name.endswith('.csv'):\n",
    "        obj = pd.read_csv(os.path.join(path_to_extract_from, obj_name))\n",
    "\n",
    "    else:\n",
    "        obj = pd.read_excel(os.path.join(path_to_extract_from, obj_name))\n",
    "\n",
    "    if not 'city' in obj.columns:\n",
    "            obj['city'] = 'Chicago'\n",
    "\n",
    "    if 'online date' not in obj.columns and 'online_date' not in obj.columns:\n",
    "         obj['online_date'] = pd.NA\n",
    "\n",
    "    obj = obj.drop(['Unnamed: 7', 'landmark', 'dateCreated'], axis=1, errors='ignore')\n",
    "\n",
    "    stations = pd.concat([stations, obj])"
   ]
  },
  {
   "cell_type": "code",
   "execution_count": 6,
   "id": "e9ff1d8a",
   "metadata": {
    "id": "e9ff1d8a"
   },
   "outputs": [],
   "source": [
    "stations['online_date'] = stations['online_date'].fillna(stations['online date'])\n",
    "stations = stations.drop('online date', axis=1)"
   ]
  },
  {
   "cell_type": "code",
   "execution_count": 7,
   "id": "12062f35",
   "metadata": {
    "id": "12062f35"
   },
   "outputs": [],
   "source": [
    "stations.to_csv('stations.csv', index=False)"
   ]
  },
  {
   "cell_type": "markdown",
   "id": "e170321c",
   "metadata": {
    "id": "e170321c"
   },
   "source": [
    "# Собираем датасет поездок"
   ]
  },
  {
   "cell_type": "code",
   "execution_count": 8,
   "id": "1b2418d5",
   "metadata": {
    "id": "1b2418d5"
   },
   "outputs": [],
   "source": [
    "path_to_extract_from = os.path.join('_data', 'trips')\n",
    "\n",
    "objects = os.listdir(path_to_extract_from)"
   ]
  },
  {
   "cell_type": "code",
   "execution_count": 9,
   "id": "a3cd2a0e",
   "metadata": {
    "id": "a3cd2a0e"
   },
   "outputs": [],
   "source": [
    "# названия однородных признаков в разных таблицах сильно варьируются. здесь мы приводим каждую таблицу к единому стандарту\n",
    "\n",
    "column_mapping = {\n",
    "    'ride_id': ['ride_id', 'trip_id', '01 - Rental Details Rental ID'],\n",
    "    'started_at': ['started_at', 'starttime', 'start_time', '01 - Rental Details Local Start Time'],\n",
    "    'ended_at': ['ended_at', 'stoptime', 'end_time', '01 - Rental Details Local End Time'],\n",
    "    'bike_id': ['bikeid', '01 - Rental Details Bike ID'],\n",
    "    'trip_duration': ['tripduration', '01 - Rental Details Duration In Seconds Uncapped'],\n",
    "    'start_station_id': ['start_station_id', 'from_station_id', '03 - Rental Start Station ID'],\n",
    "    'start_station_name': ['start_station_name', 'from_station_name', '03 - Rental Start Station Name'],\n",
    "    'end_station_id': ['end_station_id', 'to_station_id', '02 - Rental End Station ID'],\n",
    "    'end_station_name': ['end_station_name', 'to_station_name', '02 - Rental End Station Name'],\n",
    "    'user_type': ['member_casual', 'usertype', 'User Type'],\n",
    "    'gender': ['gender', 'Member Gender'],\n",
    "    'birth_year': ['birthyear', '05 - Member Details Member Birthday Year'],\n",
    "    'start_lat': ['start_lat'],\n",
    "    'start_lng': ['start_lng'],\n",
    "    'end_lat': ['end_lat'],\n",
    "    'end_lng': ['end_lng'],\n",
    "    'rideable_type': ['rideable_type']\n",
    "}\n",
    "\n",
    "rename_map = {old_name: new_name for new_name, old_names in column_mapping.items() for old_name in old_names}"
   ]
  },
  {
   "cell_type": "code",
   "execution_count": 10,
   "id": "08308cc6",
   "metadata": {
    "id": "08308cc6",
    "outputId": "a69841a1-be98-4b32-ed2f-f2b7ce326675"
   },
   "outputs": [
    {
     "name": "stderr",
     "output_type": "stream",
     "text": [
      "100%|██████████| 88/88 [03:32<00:00,  2.41s/it]\n"
     ]
    }
   ],
   "source": [
    "all_data = []\n",
    "\n",
    "for obj_name in tqdm(objects):\n",
    "    file_path = os.path.join(path_to_extract_from, obj_name)\n",
    "    df = pd.read_csv(file_path, low_memory=False)\n",
    "    df.rename(columns=rename_map, inplace=True)\n",
    "\n",
    "    available_columns = [col for col in column_mapping.keys() if col in df.columns]\n",
    "    df = df[available_columns]\n",
    "\n",
    "    df['started_at'] = pd.to_datetime(df['started_at'])\n",
    "    df['ended_at'] = pd.to_datetime(df['ended_at'])\n",
    "\n",
    "    all_data.append(df)\n",
    "\n",
    "trips = pd.concat(all_data, ignore_index=True)"
   ]
  },
  {
   "cell_type": "code",
   "execution_count": 11,
   "id": "60ba8bad",
   "metadata": {
    "id": "60ba8bad",
    "outputId": "a1c36cb7-820d-4ccc-dd2d-52f921429681"
   },
   "outputs": [
    {
     "name": "stderr",
     "output_type": "stream",
     "text": [
      "  0%|          | 0/282954198 [00:00<?, ?it/s]c:\\Users\\User\\AppData\\Local\\Programs\\Python\\Python310\\lib\\site-packages\\tqdm\\std.py:917: FutureWarning: DataFrame.applymap has been deprecated. Use DataFrame.map instead.\n",
      "  return getattr(df, df_function)(wrapper, **kwargs)\n",
      "100%|██████████| 282954198/282954198 [03:55<00:00, 1202633.68it/s]\n"
     ]
    }
   ],
   "source": [
    "trips[trips.select_dtypes('number').columns] = trips[trips.select_dtypes('number').columns].progress_applymap(str)"
   ]
  },
  {
   "cell_type": "code",
   "execution_count": 12,
   "id": "c925d510",
   "metadata": {
    "id": "c925d510"
   },
   "outputs": [],
   "source": [
    "trips['start_station_id'] = trips['start_station_id'].astype(str)\n",
    "trips['end_station_id'] = trips['end_station_id'].astype(str)\n",
    "trips['ride_id'] = trips['ride_id'].astype(str)\n",
    "trips['trip_duration'] = trips['trip_duration'].astype(str)"
   ]
  },
  {
   "cell_type": "code",
   "execution_count": 13,
   "id": "708ae93c",
   "metadata": {
    "id": "708ae93c",
    "outputId": "18660037-7a06-4e68-a86b-61aefb0185f4"
   },
   "outputs": [
    {
     "name": "stderr",
     "output_type": "stream",
     "text": [
      "100%|██████████| 48/48 [02:13<00:00,  2.78s/it]\n"
     ]
    }
   ],
   "source": [
    "'''\n",
    "вроде ничего не потерял. единственное, очень много пропусков в trips\n",
    "'''\n",
    "\n",
    "os.makedirs('chunks', exist_ok=True)\n",
    "\n",
    "chunk_size = 1_000_000\n",
    "\n",
    "for i in tqdm(range(0, len(trips), chunk_size)):\n",
    "    chunk = trips.iloc[i: i + chunk_size]\n",
    "    chunk.to_parquet(f'chunks/chunk{i//chunk_size}.parquet', index=False)"
   ]
  },
  {
   "cell_type": "markdown",
   "id": "1e8f6ab0",
   "metadata": {
    "id": "1e8f6ab0"
   },
   "source": [
    "# Очистка данных"
   ]
  },
  {
   "cell_type": "code",
   "execution_count": 4,
   "id": "994e19d9",
   "metadata": {
    "id": "994e19d9",
    "outputId": "9c180e9f-025d-45c4-b607-56d350ad7d67"
   },
   "outputs": [
    {
     "name": "stderr",
     "output_type": "stream",
     "text": [
      "100%|██████████| 48/48 [02:43<00:00,  3.41s/it]\n"
     ]
    }
   ],
   "source": [
    "df = pd.DataFrame()\n",
    "\n",
    "for i in tqdm(range(len(os.listdir('chunks')))):\n",
    "    chunk_file = f'chunks/chunk{i}.parquet'\n",
    "\n",
    "    chunk = pd.read_parquet(chunk_file)\n",
    "    df = pd.concat([df, chunk], ignore_index=True)"
   ]
  },
  {
   "cell_type": "markdown",
   "id": "4c2fefa7",
   "metadata": {
    "id": "4c2fefa7"
   },
   "source": [
    "## Избавляемся от выбросов"
   ]
  },
  {
   "cell_type": "code",
   "execution_count": 5,
   "id": "ba5c6ee4",
   "metadata": {
    "id": "ba5c6ee4"
   },
   "outputs": [],
   "source": [
    "df['trip_duration'] = df['ended_at'] - df['started_at']\n",
    "df = df[(df['trip_duration'] > pd.Timedelta(minutes=0)) & (df['trip_duration'] < pd.Timedelta(days=1))]"
   ]
  },
  {
   "cell_type": "code",
   "execution_count": 6,
   "id": "e4d18cd9",
   "metadata": {
    "id": "e4d18cd9"
   },
   "outputs": [],
   "source": [
    "Q1 = df['trip_duration'].quantile(0.25)\n",
    "Q3 = df['trip_duration'].quantile(0.75)\n",
    "IQR = Q3 - Q1\n",
    "\n",
    "df = df[df['trip_duration'] < Q3 + 3 * IQR]\n",
    "df = df[df['trip_duration'] > pd.Timedelta(minutes=2)]"
   ]
  },
  {
   "cell_type": "markdown",
   "id": "8bb7d045",
   "metadata": {
    "id": "8bb7d045"
   },
   "source": [
    "ставя такой порог (1 час 10 секунд), я потенцаинльно теряю данные о поездках по тарифу \"Day Pass\". но в общей выборке поездки такой длительности почти не представлены, из-за чего отличить их от простых выбросов (некорректный сбор данных) не представляется возможным."
   ]
  },
  {
   "cell_type": "code",
   "execution_count": 7,
   "id": "d919ee90",
   "metadata": {
    "id": "d919ee90"
   },
   "outputs": [],
   "source": [
    "df[['start_lat', 'start_lng', 'end_lat', 'end_lng', 'birth_year']] = \\\n",
    "    df[['start_lat', 'start_lng', 'end_lat', 'end_lng', 'birth_year']].astype(np.float32)"
   ]
  },
  {
   "cell_type": "code",
   "execution_count": 8,
   "id": "abfd1df0",
   "metadata": {
    "id": "abfd1df0"
   },
   "outputs": [],
   "source": [
    "LEFT_LOWER_BOUND = {'lng': -89.2, 'lat': 40.8}\n",
    "RIGHT_UPPER_BOUND = {'lng': -86.1, 'lat': 42.9}"
   ]
  },
  {
   "cell_type": "code",
   "execution_count": 9,
   "id": "ef2c6693",
   "metadata": {
    "id": "ef2c6693"
   },
   "outputs": [],
   "source": [
    "df = df[\n",
    "    ((df['start_lat'] < RIGHT_UPPER_BOUND['lat']) | df['start_lat'].isna()) &\n",
    "    ((df['start_lat'] > LEFT_LOWER_BOUND['lat']) | df['start_lat'].isna()) &\n",
    "    ((df['start_lng'] < RIGHT_UPPER_BOUND['lng']) | df['start_lng'].isna()) &\n",
    "    ((df['start_lng'] > LEFT_LOWER_BOUND['lng']) | df['start_lng'].isna()) &\n",
    "    ((df['end_lat'] < RIGHT_UPPER_BOUND['lat']) | df['end_lat'].isna()) &\n",
    "    ((df['end_lat'] > LEFT_LOWER_BOUND['lat']) | df['end_lat'].isna()) &\n",
    "    ((df['end_lng'] < RIGHT_UPPER_BOUND['lng']) | df['end_lng'].isna()) &\n",
    "    ((df['end_lng'] > LEFT_LOWER_BOUND['lng']) | df['end_lng'].isna())\n",
    "]"
   ]
  },
  {
   "cell_type": "code",
   "execution_count": 10,
   "id": "53a17e90",
   "metadata": {
    "id": "53a17e90"
   },
   "outputs": [],
   "source": [
    "df = df[((df['birth_year'] > 1950) & ((df['started_at'].dt.year - df['birth_year']) >= 10)) | (df['birth_year'].isna())]"
   ]
  },
  {
   "cell_type": "markdown",
   "id": "86c487cc",
   "metadata": {
    "id": "86c487cc"
   },
   "source": [
    "## Избавляемся от дубликатов"
   ]
  },
  {
   "cell_type": "code",
   "execution_count": 11,
   "id": "22d4bf84",
   "metadata": {
    "id": "22d4bf84"
   },
   "outputs": [],
   "source": [
    "mask_to_drop = df.duplicated(subset=['started_at', 'ended_at', 'user_type',\n",
    "                                     'start_station_name', 'end_station_name', 'rideable_type'])"
   ]
  },
  {
   "cell_type": "code",
   "execution_count": 12,
   "id": "31c1bd45",
   "metadata": {
    "id": "31c1bd45"
   },
   "outputs": [],
   "source": [
    "df = df[~mask_to_drop]"
   ]
  },
  {
   "cell_type": "markdown",
   "id": "aab16e23",
   "metadata": {
    "id": "aab16e23"
   },
   "source": [
    "## Приводим к двум .parquet файлам"
   ]
  },
  {
   "cell_type": "code",
   "execution_count": 13,
   "id": "ba239a21",
   "metadata": {
    "id": "ba239a21"
   },
   "outputs": [],
   "source": [
    "before_2020 = df[df['started_at'] < pd.Timestamp(year=2020, month=1, day=1)].copy()\n",
    "after_2020 = df[df['started_at'] >= pd.Timestamp(year=2020, month=1, day=1)].copy()"
   ]
  },
  {
   "cell_type": "code",
   "execution_count": 14,
   "id": "55a11ee2",
   "metadata": {
    "id": "55a11ee2"
   },
   "outputs": [],
   "source": [
    "before_2020 = before_2020.drop(columns=['start_lat', 'start_lng', 'end_lat', 'end_lng', 'rideable_type'])\n",
    "after_2020 = after_2020.drop(columns=['bike_id', 'gender', 'birth_year'])"
   ]
  },
  {
   "cell_type": "code",
   "execution_count": 15,
   "id": "7931dc16",
   "metadata": {
    "id": "7931dc16"
   },
   "outputs": [],
   "source": [
    "before_2020.to_parquet('before_2020.parquet', index=False)\n",
    "after_2020.to_parquet('after_2020.parquet', index=False)"
   ]
  },
  {
   "cell_type": "markdown",
   "id": "7ef45523",
   "metadata": {
    "id": "7ef45523"
   },
   "source": [
    "# Собираем данные о всех станциях и считаем дохода с поездки"
   ]
  },
  {
   "cell_type": "code",
   "execution_count": 16,
   "id": "8bd1607c",
   "metadata": {
    "id": "8bd1607c"
   },
   "outputs": [],
   "source": [
    "before_2020 = pd.read_parquet('before_2020.parquet')\n",
    "after_2020 = pd.read_parquet('after_2020.parquet')"
   ]
  },
  {
   "cell_type": "code",
   "execution_count": 17,
   "id": "a0d8a6a9",
   "metadata": {
    "id": "a0d8a6a9"
   },
   "outputs": [],
   "source": [
    "tmp = after_2020.dropna(subset=['start_station_name', 'end_station_name'])\n",
    "\n",
    "start = tmp.groupby('start_station_name', as_index=False).agg({\n",
    "    'start_lat': lambda x: x.mode()[0] if not x.mode().empty else None,\n",
    "    'start_lng': lambda x: x.mode()[0] if not x.mode().empty else None\n",
    "})\n",
    "start.columns = ['station_name', 'lat', 'lng']\n",
    "\n",
    "end = tmp.groupby('end_station_name', as_index=False).agg({\n",
    "    'end_lat': lambda x: x.mode()[0] if not x.mode().empty else None,\n",
    "    'end_lng': lambda x: x.mode()[0] if not x.mode().empty else None\n",
    "})\n",
    "end.columns = ['station_name', 'lat', 'lng']\n",
    "\n",
    "stations = pd.concat([start, end]).drop_duplicates('station_name').reset_index(drop=True)"
   ]
  },
  {
   "cell_type": "code",
   "execution_count": 18,
   "id": "1e647e27",
   "metadata": {
    "id": "1e647e27"
   },
   "outputs": [],
   "source": [
    "stations_csv = pd.read_csv('stations.csv')\n",
    "stations_csv = stations_csv.drop(columns=['id', 'dpcapacity', 'online_date', 'city'])\n",
    "stations_csv = stations_csv.rename({'name': 'station_name', 'latitude': 'lat', 'longitude': 'lng'}, axis=1)\n",
    "stations_csv = stations_csv.drop_duplicates()"
   ]
  },
  {
   "cell_type": "code",
   "execution_count": 19,
   "id": "0a282636",
   "metadata": {
    "id": "0a282636"
   },
   "outputs": [],
   "source": [
    "stations = pd.concat([stations, stations_csv]).drop_duplicates('station_name').reset_index(drop=True)"
   ]
  },
  {
   "cell_type": "code",
   "execution_count": 20,
   "id": "31c4d8c2",
   "metadata": {
    "id": "31c4d8c2"
   },
   "outputs": [],
   "source": [
    "before_2020['user_type'] = before_2020['user_type'].map({'Subscriber': 'member', 'Customer': 'casual'})\n",
    "before_2020 = before_2020.dropna(subset=['user_type'])\n",
    "\n",
    "before_2020 = before_2020.drop(columns=['bike_id', 'start_station_id', 'end_station_id', 'ride_id'])\n",
    "\n",
    "before_2020['trip_duration'] = before_2020['trip_duration'].dt.seconds\n",
    "before_2020 = before_2020.sort_values('started_at')"
   ]
  },
  {
   "cell_type": "code",
   "execution_count": 21,
   "id": "e1bedde7",
   "metadata": {
    "id": "e1bedde7"
   },
   "outputs": [],
   "source": [
    "before_2020['age'] = before_2020.started_at.dt.year - before_2020['birth_year']\n",
    "before_2020 = before_2020.drop(columns=['birth_year'])\n",
    "\n",
    "before_2020['age'] = before_2020['age'].fillna(before_2020['age'].mean())"
   ]
  },
  {
   "cell_type": "code",
   "execution_count": 22,
   "id": "1064c758",
   "metadata": {
    "id": "1064c758"
   },
   "outputs": [],
   "source": [
    "after_2020 = after_2020.drop(columns=['start_station_id', 'end_station_id', 'ride_id'])\n",
    "\n",
    "after_2020['trip_duration'] = after_2020['trip_duration'].dt.seconds\n",
    "after_2020 = after_2020.sort_values('started_at')"
   ]
  },
  {
   "cell_type": "markdown",
   "id": "06c1a12d",
   "metadata": {
    "id": "06c1a12d"
   },
   "source": [
    "В датасете много безымянных станций, чьи координаы неоднократно повторяются. Вынесем их также"
   ]
  },
  {
   "cell_type": "markdown",
   "id": "555503f2",
   "metadata": {
    "id": "555503f2"
   },
   "source": [
    "## Выносим nan-станции"
   ]
  },
  {
   "cell_type": "code",
   "execution_count": 23,
   "id": "5f83256b",
   "metadata": {
    "id": "5f83256b",
    "outputId": "02fa8ca2-7d3c-438d-c1b0-75713d0f0755"
   },
   "outputs": [
    {
     "name": "stderr",
     "output_type": "stream",
     "text": [
      "100%|██████████| 24723321/24723321 [03:50<00:00, 107414.05it/s]\n",
      "100%|██████████| 24723321/24723321 [04:11<00:00, 98453.71it/s] \n"
     ]
    }
   ],
   "source": [
    "unknown_counter = 0\n",
    "station_map = {}\n",
    "\n",
    "def start_fill_with_unique_id(x):\n",
    "    global unknown_counter\n",
    "    if pd.isna(x['start_station_name']):\n",
    "        coords = (x['start_lat'], x['start_lng'])\n",
    "        if coords in station_map:\n",
    "            return station_map[coords]\n",
    "        else:\n",
    "            val = f\"unknown_station{unknown_counter}\"\n",
    "            station_map[coords] = val\n",
    "            unknown_counter += 1\n",
    "            return val\n",
    "    return x['start_station_name']\n",
    "\n",
    "def end_fill_with_unique_id(x):\n",
    "    global unknown_counter\n",
    "    if pd.isna(x['end_station_name']) and not pd.isna(x['end_lat']) and not pd.isna(x['end_lng']):\n",
    "        coords = (x['end_lat'], x['end_lng'])\n",
    "        if coords in station_map:\n",
    "            return station_map[coords]\n",
    "        else:\n",
    "            val = f\"unknown_station{unknown_counter}\"\n",
    "            station_map[coords] = val\n",
    "            unknown_counter += 1\n",
    "            return val\n",
    "    return x['end_station_name']\n",
    "\n",
    "after_2020['start_station_name'] = after_2020.progress_apply(start_fill_with_unique_id, axis=1)\n",
    "# print('готово')\n",
    "after_2020['end_station_name'] = after_2020.progress_apply(end_fill_with_unique_id, axis=1)\n",
    "# print('готово')\n",
    "# не работает tqdm почему-то"
   ]
  },
  {
   "cell_type": "code",
   "execution_count": 24,
   "id": "59d3e90f",
   "metadata": {
    "id": "59d3e90f"
   },
   "outputs": [],
   "source": [
    "uknown_stations_data = [{'station_name': name, 'lat': lat, 'lng': lng}\n",
    "        for (lat, lng), name in station_map.items()]\n",
    "\n",
    "uknown_stations = pd.DataFrame(uknown_stations_data, columns=['station_name', 'lat', 'lng'])"
   ]
  },
  {
   "cell_type": "code",
   "execution_count": 25,
   "id": "fd05472a",
   "metadata": {
    "id": "fd05472a"
   },
   "outputs": [],
   "source": [
    "stations = pd.concat([stations, uknown_stations]).drop_duplicates('station_name').reset_index(drop=True)"
   ]
  },
  {
   "cell_type": "markdown",
   "id": "949962e9",
   "metadata": {
    "id": "949962e9"
   },
   "source": [
    "## Считаем доход от каждой поездки"
   ]
  },
  {
   "cell_type": "code",
   "execution_count": 26,
   "id": "280cf907",
   "metadata": {},
   "outputs": [],
   "source": [
    "after_2020 = pd.read_parquet('after_2020_income_included.parquet')"
   ]
  },
  {
   "cell_type": "code",
   "execution_count": 27,
   "id": "974ebcf2",
   "metadata": {},
   "outputs": [],
   "source": [
    "after_2020 = after_2020.drop(columns=['income'])"
   ]
  },
  {
   "cell_type": "code",
   "execution_count": 28,
   "id": "b7f390f6",
   "metadata": {
    "id": "b7f390f6"
   },
   "outputs": [],
   "source": [
    "prices = pd.read_csv('prices.csv')\n",
    "prices.columns = prices.columns.str.lower()\n",
    "prices = prices[prices['year'] >= 2020]\n",
    "\n",
    "prices = prices[(prices['tariff_type'].isin(['Single Ride', 'Annual Pass']))]"
   ]
  },
  {
   "cell_type": "code",
   "execution_count": 29,
   "id": "a4a67b56",
   "metadata": {
    "id": "a4a67b56"
   },
   "outputs": [],
   "source": [
    "prices['bike_type'] = prices['bike_type'].map({'Classic Bike': 'classic_bike',\n",
    "                                               'Classic Bikes': 'classic_bike',\n",
    "                                                'Ebike': 'electric_bike',\n",
    "                                                'E-Bikes': 'electric_bike',\n",
    "                                                'Scooters': 'electric_scooter'\n",
    "                                               })\n",
    "\n",
    "prices['tariff_type'] = prices['tariff_type'].map({'Single Ride': 'casual',\n",
    "                                                    'Day Pass': 'casual',\n",
    "                                                    'Annual Pass': 'member',\n",
    "                                                    'Subscription': 'member',\n",
    "                                                    'Member': 'member'\n",
    "                                                })"
   ]
  },
  {
   "cell_type": "code",
   "execution_count": 30,
   "id": "bff4b51e",
   "metadata": {
    "id": "bff4b51e"
   },
   "outputs": [],
   "source": [
    "tariff_lookup = {\n",
    "    (row['year'], row['tariff_type'], row['bike_type']): (\n",
    "        row['unlock_fee'],\n",
    "        row['free_period'],\n",
    "        row['per_minute_rate']\n",
    "    )\n",
    "    for _, row in prices.iterrows()\n",
    "}"
   ]
  },
  {
   "cell_type": "code",
   "execution_count": 31,
   "id": "da37f4b7",
   "metadata": {
    "id": "da37f4b7"
   },
   "outputs": [],
   "source": [
    "after_2020['year'] = after_2020['started_at'].dt.year"
   ]
  },
  {
   "cell_type": "code",
   "execution_count": 32,
   "id": "05337fd8",
   "metadata": {
    "id": "05337fd8",
    "outputId": "67a8dcf1-700a-4375-f45d-a5ec9d64dbcc"
   },
   "outputs": [
    {
     "name": "stderr",
     "output_type": "stream",
     "text": [
      "100%|██████████| 24720177/24720177 [05:36<00:00, 73559.14it/s] \n"
     ]
    }
   ],
   "source": [
    "nulls = 0\n",
    "nulls_counts = {2020: 0, 2021: 0, 2022: 0, 2023: 0, 2024: 0, 2025: 0}\n",
    "\n",
    "def count_ride_income_fast(x):\n",
    "    global nulls\n",
    "    year = x['year']\n",
    "    user_type = x['user_type']\n",
    "    rideable_type = x['rideable_type']\n",
    "    duration = x['trip_duration'] // 60 + 1\n",
    "\n",
    "    if rideable_type == 'docked_bike':\n",
    "        rideable_type = 'classic_bike'\n",
    "    elif rideable_type == 'electric_scooter':\n",
    "        rideable_type = 'electric_bike'\n",
    "\n",
    "    key = (year, user_type, rideable_type)\n",
    "    if key not in tariff_lookup.keys():\n",
    "        nulls += 1\n",
    "        nulls_counts[year] += 1\n",
    "\n",
    "    unlock_fee, free_minutes, rate = tariff_lookup.get(\n",
    "        key, (1, 45, 0.18)\n",
    "    )\n",
    "\n",
    "    income = unlock_fee + max(duration - free_minutes, 0) * rate\n",
    "    return income\n",
    "\n",
    "\n",
    "after_2020['income'] = after_2020.progress_apply(count_ride_income_fast, axis=1)"
   ]
  },
  {
   "cell_type": "markdown",
   "id": "f1d86426",
   "metadata": {
    "id": "f1d86426"
   },
   "source": [
    "# Выносим станции-призраки в отдельный датасет"
   ]
  },
  {
   "cell_type": "code",
   "execution_count": 35,
   "id": "1da0f54d",
   "metadata": {
    "id": "1da0f54d"
   },
   "outputs": [],
   "source": [
    "after_2020 = after_2020.reset_index(drop=True)\n",
    "after_2020 = after_2020.dropna(subset=['start_station_name', 'end_station_name'])"
   ]
  },
  {
   "cell_type": "code",
   "execution_count": 36,
   "id": "2d416579",
   "metadata": {
    "id": "2d416579"
   },
   "outputs": [],
   "source": [
    "THRESHHOLD_FOR_STATIONS = 1000\n",
    "\n",
    "all_years = pd.concat([before_2020, after_2020])\n",
    "\n",
    "ssc = all_years.start_station_name.value_counts()\n",
    "ssc = ssc > THRESHHOLD_FOR_STATIONS\n",
    "ssc = ssc.rename('start_to_left')\n",
    "\n",
    "esc = all_years.end_station_name.value_counts()\n",
    "esc = esc > THRESHHOLD_FOR_STATIONS\n",
    "esc = esc.rename('end_to_left')\n",
    "\n",
    "all_years = all_years.merge(ssc, on='start_station_name', how='left')\n",
    "all_years = all_years.merge(esc, on='end_station_name', how='left')"
   ]
  },
  {
   "cell_type": "code",
   "execution_count": 37,
   "id": "6b9618e9",
   "metadata": {
    "id": "6b9618e9"
   },
   "outputs": [],
   "source": [
    "all_yaears = all_years[(all_years['start_to_left']) & (all_years['end_to_left'])]"
   ]
  },
  {
   "cell_type": "code",
   "execution_count": 38,
   "id": "cf60b9e7",
   "metadata": {
    "id": "cf60b9e7"
   },
   "outputs": [],
   "source": [
    "ghost_stations = esc[~esc].index\n",
    "ghost_stations = stations[stations['station_name'].isin(ghost_stations)]"
   ]
  },
  {
   "cell_type": "code",
   "execution_count": 39,
   "id": "91e0b720",
   "metadata": {
    "id": "91e0b720"
   },
   "outputs": [],
   "source": [
    "before_2020['trip_duration'] = before_2020['trip_duration'].astype(np.int32)\n",
    "before_2020['age'] = before_2020['age'].astype(np.int32)\n",
    "\n",
    "after_2020['trip_duration'] = after_2020['trip_duration'].astype(np.int32)\n",
    "after_2020['income'] = after_2020['income'].astype(np.float32)"
   ]
  },
  {
   "cell_type": "code",
   "execution_count": 40,
   "id": "846346b7",
   "metadata": {
    "id": "846346b7"
   },
   "outputs": [],
   "source": [
    "after_2020.to_parquet('after_2020_income_included.parquet')\n",
    "before_2020.to_parquet('before_2020.parquet')"
   ]
  },
  {
   "cell_type": "markdown",
   "id": "644b5cd2",
   "metadata": {
    "id": "644b5cd2"
   },
   "source": [
    "# Считаем все доходы и расходы"
   ]
  },
  {
   "cell_type": "markdown",
   "id": "df2654e7",
   "metadata": {
    "id": "df2654e7"
   },
   "source": [
    "Мы выбрали распределение подписок как 35% на 65% опираясь [на это исследование](https://medium.com/%40aswinpushkar11/exploratory-data-analysis-of-divvy-bike-sharing-a5ce4498e723)"
   ]
  },
  {
   "cell_type": "markdown",
   "id": "593d297d",
   "metadata": {
    "id": "593d297d"
   },
   "source": [
    "Число подписчиков Divvy оценить тяжелее, так как нет публичных отчетов. Оценка составлена на [заявлении Чикагской администрации](https://www.chicago.gov/city/en/depts/cdot/provdrs/bike/news/2023/april/divvy-for-the-entire-city--divvy-service-hits-all-50-wards.html?)\n",
    "\n",
    ">Last year (2022) Divvy had nearly 550,000 unique riders and reached over 43,000 members."
   ]
  },
  {
   "cell_type": "code",
   "execution_count": 41,
   "id": "1797fb34",
   "metadata": {},
   "outputs": [],
   "source": [
    "after_2020 = pd.read_parquet('after_2020_income_included.parquet')"
   ]
  },
  {
   "cell_type": "code",
   "execution_count": 42,
   "id": "3f2a1069",
   "metadata": {
    "id": "3f2a1069"
   },
   "outputs": [],
   "source": [
    "def calculate_revenues(df, business_params):\n",
    "    results = []\n",
    "\n",
    "    for year in range(2020, 2026):\n",
    "        rides = df[df['started_at'].dt.year == year]\n",
    "        ride_revenue = rides['income'].sum()\n",
    "\n",
    "        subs = business_params['annual_pass'].get(year, {})\n",
    "        if 'price' in subs:\n",
    "            sub_revenue = subs['count'] * subs['price']\n",
    "        else:\n",
    "            sub_revenue = (subs['count'] * 0.35 * subs['price_basic'] +\n",
    "                          subs['count'] * 0.65 * subs['price_premium'])\n",
    "\n",
    "        total_revenue = ride_revenue + sub_revenue\n",
    "\n",
    "        results.append({\n",
    "            'year': year,\n",
    "            'total_revenue': total_revenue\n",
    "        })\n",
    "\n",
    "    return pd.DataFrame(results)"
   ]
  },
  {
   "cell_type": "code",
   "execution_count": 43,
   "id": "864e0779",
   "metadata": {
    "id": "864e0779"
   },
   "outputs": [],
   "source": [
    "def calculate_expenses(df, business_params):\n",
    "    expenses = []\n",
    "\n",
    "    for year in range(2020, 2026):\n",
    "        year_data = df[df['started_at'].dt.year == year]\n",
    "        unique_stations = pd.concat([\n",
    "            year_data['start_station_name'],\n",
    "            year_data['end_station_name']\n",
    "        ]).nunique()\n",
    "\n",
    "        station_costs = unique_stations * business_params['station_rent'][year] * 12\n",
    "\n",
    "        salary_costs = (business_params['employees_count'][year] *\n",
    "                       business_params['employee_salary'][year] * 12)\n",
    "\n",
    "        total_expenses = station_costs + salary_costs\n",
    "\n",
    "        expenses.append({\n",
    "            'year': year,\\\n",
    "            'total_expenses': total_expenses\n",
    "        })\n",
    "\n",
    "    return pd.DataFrame(expenses)"
   ]
  },
  {
   "cell_type": "code",
   "execution_count": 44,
   "id": "ad8a87b2",
   "metadata": {
    "id": "ad8a87b2"
   },
   "outputs": [],
   "source": [
    "df = after_2020.copy()\n",
    "df['started_at'] = pd.to_datetime(df['started_at'])\n",
    "\n",
    "price_count_ect = {\n",
    "    'station_rent': {\n",
    "        2020: 300,\n",
    "        2021: 325,\n",
    "        2022: 350,\n",
    "        2023: 375,\n",
    "        2024: 400,\n",
    "        2025: 425\n",
    "    }, # средняя стоимость аренды и обсуживания одной станции и всех ее велосипедов в месяц\n",
    "    'employee_salary': {\n",
    "        2020: 3000,\n",
    "        2021: 3100,\n",
    "        2022: 3200,\n",
    "        2023: 3300,\n",
    "        2024: 3400,\n",
    "        2025: 3500\n",
    "    }, # средняя зарплата сотрудника в месяц (средняя с 2020)\n",
    "    'employees_count': {\n",
    "        2020: 150,\n",
    "        2021: 150,\n",
    "        2022: 155,\n",
    "        2023: 155,\n",
    "        2024: 155,\n",
    "        2025: 160\n",
    "    },\n",
    "    'annual_pass': {\n",
    "        2020: {'count': 35000, 'price': 99},\n",
    "        2021: {'count': 40000, 'price': 108},\n",
    "        2022: {'count': 45000, 'price': 119},\n",
    "        2023: {'count': 50000, 'price_basic': 130.9, 'price_premium': 199},\n",
    "        2024: {'count': 55000, 'price_basic': 143.9, 'price_premium': 199},\n",
    "        2025: {'count': 60000, 'price_basic': 143.9, 'price_premium': 199}\n",
    "    }\n",
    "}"
   ]
  },
  {
   "cell_type": "code",
   "execution_count": 45,
   "id": "c783992f",
   "metadata": {},
   "outputs": [],
   "source": [
    "revenues = calculate_revenues(df, price_count_ect)\n",
    "expenses = calculate_expenses(df, price_count_ect)"
   ]
  },
  {
   "cell_type": "code",
   "execution_count": 46,
   "id": "82c964f0",
   "metadata": {
    "id": "82c964f0"
   },
   "outputs": [],
   "source": [
    "final_report = revenues.merge(expenses, on='year')\n",
    "final_report['profit'] = final_report['total_revenue'] - final_report['total_expenses']\n",
    "\n",
    "final_report.to_csv('summary.csv', index=False)"
   ]
  },
  {
   "cell_type": "markdown",
   "id": "f95abfd1",
   "metadata": {},
   "source": [
    "## Юнит экономика для каждого вида байка"
   ]
  },
  {
   "cell_type": "code",
   "execution_count": 47,
   "id": "ea5638d4",
   "metadata": {},
   "outputs": [],
   "source": [
    "final_report = pd.read_csv('summary.csv')\n",
    "bikes_amount = pd.read_csv('bikes_amount.tsv', sep='\\t')\n",
    "\n",
    "final_report = final_report.merge(bikes_amount, on='year')"
   ]
  },
  {
   "cell_type": "code",
   "execution_count": 48,
   "id": "1fad8c07",
   "metadata": {},
   "outputs": [],
   "source": [
    "final_report['profit_per_bike'] = final_report['profit'] / (final_report['classic_bikes'] + final_report['electric_bikes'])"
   ]
  },
  {
   "cell_type": "code",
   "execution_count": 49,
   "id": "c01e162e",
   "metadata": {},
   "outputs": [],
   "source": [
    "after_2020_temp = after_2020.copy()\n",
    "after_2020_temp['year'] = after_2020_temp['started_at'].dt.year\n",
    "\n",
    "after_2020_temp['rideable_type'] = after_2020_temp['rideable_type'].map({'classic_bike': 'classic_bike',\n",
    "                                               'docked_bike': 'classic_bike',\n",
    "                                                'electric_scooter': 'electric_bike',\n",
    "                                                'electric_bike': 'electric_bike',\n",
    "                                                'Scooters': 'electric_bike'\n",
    "                                               })"
   ]
  },
  {
   "cell_type": "code",
   "execution_count": 50,
   "id": "915e6b3a",
   "metadata": {},
   "outputs": [],
   "source": [
    "profits = pd.DataFrame(columns=['year', 'bike_type', 'profit'])\n",
    "\n",
    "profits = profits.astype({\n",
    "    'year': 'int16',\n",
    "    'bike_type': 'object',\n",
    "    'profit': 'int64'\n",
    "})\n",
    "\n",
    "for year in range(2020, 2025):\n",
    "    for bike_type in ['electric_bike', 'classic_bike']:\n",
    "        p_type = after_2020_temp[after_2020_temp['year'] == year]['rideable_type'].value_counts(normalize=True).get(bike_type, 0)\n",
    "\n",
    "        P = final_report[final_report['year'] == year]['profit_per_bike'].values[0]\n",
    "        bike_share = final_report[final_report['year'] == year][bike_type + 's'] / (final_report['classic_bikes'] + \n",
    "                                                                              final_report['electric_bikes'])\n",
    "        bike_share = bike_share.dropna().values[0]\n",
    "        \n",
    "        profit = round(p_type * P / bike_share, 2)\n",
    "        profits.loc[len(profits)] = [year, bike_type, profit]"
   ]
  },
  {
   "cell_type": "code",
   "execution_count": 51,
   "id": "9917ad4e",
   "metadata": {},
   "outputs": [],
   "source": [
    "final_report.to_csv('final_report.csv', index=False)\n",
    "profits.to_csv('profits.csv', index=False)"
   ]
  }
 ],
 "metadata": {
  "accelerator": "TPU",
  "colab": {
   "gpuType": "V28",
   "provenance": []
  },
  "kernelspec": {
   "display_name": "Python 3",
   "name": "python3"
  },
  "language_info": {
   "codemirror_mode": {
    "name": "ipython",
    "version": 3
   },
   "file_extension": ".py",
   "mimetype": "text/x-python",
   "name": "python",
   "nbconvert_exporter": "python",
   "pygments_lexer": "ipython3",
   "version": "3.10.8"
  }
 },
 "nbformat": 4,
 "nbformat_minor": 5
}
